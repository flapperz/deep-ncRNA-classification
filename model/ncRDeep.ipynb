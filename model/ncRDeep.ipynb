{
 "cells": [
  {
   "cell_type": "markdown",
   "metadata": {
    "id": "8_jb5VWyZKMT"
   },
   "source": [
    "# Imports"
   ]
  },
  {
   "cell_type": "code",
   "execution_count": 1,
   "metadata": {
    "colab": {
     "base_uri": "https://localhost:8080/"
    },
    "id": "TWZX-bKkZKMU",
    "outputId": "0baa531c-11b4-4f5f-a8cd-7eac4eca841d"
   },
   "outputs": [
    {
     "name": "stdout",
     "output_type": "stream",
     "text": [
      "Collecting biopython\n",
      "  Downloading biopython-1.78-cp37-cp37m-win_amd64.whl (2.3 MB)\n",
      "Requirement already satisfied: numpy in c:\\users\\flap9\\miniconda3\\lib\\site-packages (from biopython) (1.18.1)\n",
      "Installing collected packages: biopython\n",
      "Successfully installed biopython-1.78\n"
     ]
    }
   ],
   "source": [
    "!pip install biopython"
   ]
  },
  {
   "cell_type": "code",
   "execution_count": 2,
   "metadata": {
    "colab": {
     "base_uri": "https://localhost:8080/"
    },
    "id": "cu_awpuxZKMa",
    "outputId": "1aad26ec-36a3-46bc-dfcc-687a899758d0"
   },
   "outputs": [
    {
     "ename": "ModuleNotFoundError",
     "evalue": "No module named 'pandas'",
     "output_type": "error",
     "traceback": [
      "\u001b[1;31m---------------------------------------------------------------------------\u001b[0m",
      "\u001b[1;31mModuleNotFoundError\u001b[0m                       Traceback (most recent call last)",
      "\u001b[1;32m<ipython-input-2-b23797e8ee32>\u001b[0m in \u001b[0;36m<module>\u001b[1;34m\u001b[0m\n\u001b[0;32m      1\u001b[0m \u001b[1;32mimport\u001b[0m \u001b[0mnumpy\u001b[0m \u001b[1;32mas\u001b[0m \u001b[0mnp\u001b[0m\u001b[1;33m\u001b[0m\u001b[1;33m\u001b[0m\u001b[0m\n\u001b[1;32m----> 2\u001b[1;33m \u001b[1;32mimport\u001b[0m \u001b[0mpandas\u001b[0m \u001b[1;32mas\u001b[0m \u001b[0mpd\u001b[0m\u001b[1;33m\u001b[0m\u001b[1;33m\u001b[0m\u001b[0m\n\u001b[0m\u001b[0;32m      3\u001b[0m \u001b[1;32mfrom\u001b[0m \u001b[0mBio\u001b[0m \u001b[1;32mimport\u001b[0m \u001b[0mSeqIO\u001b[0m\u001b[1;33m\u001b[0m\u001b[1;33m\u001b[0m\u001b[0m\n\u001b[0;32m      4\u001b[0m \u001b[1;32mimport\u001b[0m \u001b[0mtensorflow\u001b[0m \u001b[1;32mas\u001b[0m \u001b[0mtf\u001b[0m\u001b[1;33m\u001b[0m\u001b[1;33m\u001b[0m\u001b[0m\n\u001b[0;32m      5\u001b[0m \u001b[1;31m# tf.enable_eager_execution()\u001b[0m\u001b[1;33m\u001b[0m\u001b[1;33m\u001b[0m\u001b[1;33m\u001b[0m\u001b[0m\n",
      "\u001b[1;31mModuleNotFoundError\u001b[0m: No module named 'pandas'"
     ]
    }
   ],
   "source": [
    "import numpy as np\n",
    "import pandas as pd\n",
    "from Bio import SeqIO\n",
    "import tensorflow as tf\n",
    "# tf.enable_eager_execution()\n",
    "from tensorflow import keras\n",
    "print('tf version:',tf.__version__)\n",
    "print('keras version:',keras.__version__)"
   ]
  },
  {
   "cell_type": "code",
   "execution_count": null,
   "metadata": {
    "colab": {
     "base_uri": "https://localhost:8080/"
    },
    "id": "Zhrfd_fDZpK-",
    "outputId": "a7795002-d3ff-4cdd-e670-a16cf4472deb"
   },
   "outputs": [],
   "source": [
    "from google.colab import drive\n",
    "drive.mount('/content/drive/')"
   ]
  },
  {
   "cell_type": "markdown",
   "metadata": {
    "id": "1hhh17h6ZKMc"
   },
   "source": [
    "# Settings"
   ]
  },
  {
   "cell_type": "code",
   "execution_count": null,
   "metadata": {
    "id": "QrjiWIfTZKMd"
   },
   "outputs": [],
   "source": [
    "test_fasta = 'data/test_13_classes.fasta'\n",
    "train_fasta = 'data/train.fasta' \n",
    "val_fasta = 'data/val.fasta'"
   ]
  },
  {
   "cell_type": "code",
   "execution_count": null,
   "metadata": {
    "colab": {
     "base_uri": "https://localhost:8080/"
    },
    "id": "15yDxcxTbH-b",
    "outputId": "43ea9c9b-be67-48ae-93ce-3cef0a9a7d96"
   },
   "outputs": [],
   "source": [
    "cd 'drive/My Drive/Colab Notebooks'"
   ]
  },
  {
   "cell_type": "markdown",
   "metadata": {
    "id": "P-6fIz5-ZKMf"
   },
   "source": [
    "# inspect data"
   ]
  },
  {
   "cell_type": "code",
   "execution_count": null,
   "metadata": {
    "id": "_lhyKGZaZKMg"
   },
   "outputs": [],
   "source": [
    "with open(test_fasta) as fasta_file:  # Will close handle cleanly\n",
    "    identifiers = []\n",
    "    lengths = []\n",
    "    seqs = []\n",
    "    classes = []\n",
    "\n",
    "    for seq_record in SeqIO.parse(fasta_file, 'fasta'):  # (generator)\n",
    "        identifiers.append(seq_record.id)\n",
    "        seqs.append(seq_record.seq)\n",
    "        classes.append(seq_record.description.split()[1])\n",
    "        lengths.append(len(seq_record.seq))\n",
    "\n",
    "    df = pd.DataFrame({\n",
    "        'identifier':identifiers,\n",
    "        'family':classes,\n",
    "        'seq':seqs,\n",
    "        'length':lengths         \n",
    "        })"
   ]
  },
  {
   "cell_type": "code",
   "execution_count": null,
   "metadata": {
    "colab": {
     "base_uri": "https://localhost:8080/"
    },
    "id": "kb8WlBOAZKMj",
    "outputId": "c6624460-b753-4b9e-af9a-c49bdba2a2d2"
   },
   "outputs": [],
   "source": [
    "df.head"
   ]
  },
  {
   "cell_type": "code",
   "execution_count": null,
   "metadata": {
    "colab": {
     "base_uri": "https://localhost:8080/",
     "height": 338
    },
    "id": "dtWD4xfiZKMm",
    "outputId": "ae5ccad9-e578-4e9c-a6e9-57e6ac8a4237"
   },
   "outputs": [],
   "source": [
    "df.family.hist(figsize=(25,5))"
   ]
  },
  {
   "cell_type": "markdown",
   "metadata": {
    "id": "MVHe5PIHZKMo"
   },
   "source": [
    "# Load and Preprocess"
   ]
  },
  {
   "cell_type": "code",
   "execution_count": null,
   "metadata": {
    "id": "kbHHnXkhZKMp"
   },
   "outputs": [],
   "source": [
    "w_to_idx = {\"<PAD>\": 0, \"A\": 1, \"G\": 2, \"C\": 3, \"T\": 4, \"N\": 5, \"M\": 6, \"R\": 7, \"Y\": 8, \"W\": 9,\n",
    "              \"K\": 10, \"S\": 11, \"H\": 12, \"V\": 13, \"B\": 14, \"D\": 15}\n",
    "families = [\n",
    "           '5S_rRNA',\n",
    "           '5_8S_rRNA',\n",
    "           'CD-box',\n",
    "           'HACA-box',\n",
    "           'IRES',\n",
    "           'Intron_gpI',\n",
    "           'Intron_gpII',\n",
    "           'leader',\n",
    "           'miRNA',\n",
    "           'riboswitch',\n",
    "           'ribozyme',\n",
    "           'scaRNA',\n",
    "           'tRNA'\n",
    "           ]\n",
    "fam_to_idx = {}\n",
    "for i,f in enumerate(families):\n",
    "    fam_to_idx[f] = i"
   ]
  },
  {
   "cell_type": "code",
   "execution_count": null,
   "metadata": {
    "id": "YpNLApGJZKMr"
   },
   "outputs": [],
   "source": [
    "def read_file(fname, mapper=w_to_idx):\n",
    "\n",
    "    with open(fname) as fasta_file:  # Will close handle cleanly\n",
    "        identifiers = []\n",
    "        lengths = []\n",
    "        seqs = []\n",
    "        classes = []\n",
    "\n",
    "        for seq_record in SeqIO.parse(fasta_file, 'fasta'):  # (generator)\n",
    "            identifiers.append(seq_record.id)\n",
    "            seqs.append(seq_record.seq)\n",
    "            classes.append(seq_record.description.split()[1])\n",
    "            lengths.append(len(seq_record.seq))\n",
    "\n",
    "    df = pd.DataFrame({\n",
    "        'identifier':identifiers,\n",
    "        'family':classes,\n",
    "        'seq':seqs,\n",
    "        'length':lengths         \n",
    "        })\n",
    "\n",
    "    x_idxss = [[w_to_idx[w] for w in seq][0:min(len(seq),750)]+[w_to_idx['<PAD>']]*(750 - len(seq)) for seq in seqs]\n",
    "    y_idxs = [fam_to_idx[f] for f in classes]\n",
    "\n",
    "    xs = tf.convert_to_tensor([tf.one_hot(idxs, len(w_to_idx)) for idxs in x_idxss])\n",
    "    ys = tf.one_hot(y_idxs, len(families))\n",
    "    \n",
    "    return xs,ys,df\n",
    "        \n",
    "        "
   ]
  },
  {
   "cell_type": "code",
   "execution_count": null,
   "metadata": {
    "id": "7_HNVPRYZKMv"
   },
   "outputs": [],
   "source": [
    "xs_test, ys_test,df = read_file(test_fasta)\n",
    "xs_train, ys_train,_ = read_file(train_fasta)\n",
    "xs_val ,ys_val,df = read_file(val_fasta)"
   ]
  },
  {
   "cell_type": "code",
   "execution_count": null,
   "metadata": {
    "colab": {
     "base_uri": "https://localhost:8080/",
     "height": 338
    },
    "id": "jV0s6GTlZKMx",
    "outputId": "0b7323ff-ce9d-4698-c771-7b126c226ace"
   },
   "outputs": [],
   "source": [
    "df.family.hist(figsize=(25,5))"
   ]
  },
  {
   "cell_type": "markdown",
   "metadata": {
    "id": "0WEZo2_HZKMz"
   },
   "source": [
    "# Model"
   ]
  },
  {
   "cell_type": "code",
   "execution_count": null,
   "metadata": {
    "id": "7Fh4PpkEZKM0"
   },
   "outputs": [],
   "source": [
    "from tensorflow.keras.layers import MaxPooling1D, Dropout, Dense, Flatten, Conv1D, BatchNormalization, Activation\n",
    "from tensorflow.keras import Model, activations"
   ]
  },
  {
   "cell_type": "code",
   "execution_count": null,
   "metadata": {
    "colab": {
     "base_uri": "https://localhost:8080/"
    },
    "id": "ikkuOSgdZKM2",
    "outputId": "c9d5641d-a206-464c-9c17-4ea4113bc90c"
   },
   "outputs": [],
   "source": [
    "print('dimension of x',xs_train.shape)\n",
    "print('dimension of y',ys_train.shape)"
   ]
  },
  {
   "cell_type": "code",
   "execution_count": null,
   "metadata": {
    "id": "i7Dno5wfZKM4"
   },
   "outputs": [],
   "source": [
    "class MyModel(Model):\n",
    "    def __init__(self, nc=1, nd=1, nfilter=32, filter_size=10, dense_node=256):\n",
    "        super(MyModel, self).__init__()\n",
    "        self.nc = nc\n",
    "        self.nd = nd\n",
    "        # conv block\n",
    "        self.c_conv = [Conv1D(nfilter, filter_size, activation='relu') for i in range(nc)]\n",
    "        self.c_batchnorm = [BatchNormalization() for i in range(nc)]\n",
    "        self.c_dropout =  [Dropout(0.2) for i in range(nc)]\n",
    "        self.c_activation = [Activation(activations.relu) for i in range(nc)]\n",
    "        self.c_maxpool = [MaxPooling1D(2,2) for i in range(nc)]\n",
    "        \n",
    "        self.flat = Flatten()\n",
    "        \n",
    "        # dense block\n",
    "        self.d_dense = [Dense(dense_node, activation='relu') for i in range(nd)]\n",
    "        self.d_batchnorm = [BatchNormalization() for i in range(nd)]\n",
    "        self.d_dropout = [Dropout(0.2) for i in range(nd)]\n",
    "        self.d_activation = [Activation(activations.relu) for i in range(nd)]\n",
    "\n",
    "        # final result\n",
    "        self.d1 = Dense(13)\n",
    "\n",
    "    def call(self, x):\n",
    "        for i in range(self.nc):\n",
    "            x = self.c_conv[i](x)\n",
    "            x = self.c_batchnorm[i](x)\n",
    "            x = self.c_dropout[i](x)\n",
    "            x = self.c_activation[i](x)\n",
    "            x = self.c_maxpool[i](x)\n",
    "            \n",
    "        x = self.flat(x)\n",
    "        \n",
    "        for i in range(self.nd):\n",
    "            x = self.d_dense[i](x)\n",
    "            x = self.d_batchnorm[i](x)\n",
    "            x = self.d_dropout[i](x)\n",
    "            x = self.d_activation[i](x)\n",
    "\n",
    "        return self.d1(x)\n",
    "\n",
    "# model = MyModel(3,3)"
   ]
  },
  {
   "cell_type": "code",
   "execution_count": null,
   "metadata": {
    "id": "HDv9YfFzZKM7"
   },
   "outputs": [],
   "source": [
    "# model = tf.keras.models.Sequential([\n",
    "#     tf.keras.layers.Conv2D(filters=8, kernel_size=(2,2)),\n",
    "#     tf.keras.layers.Flatten(input_shape=(750, 16)),\n",
    "\n",
    "#     tf.keras.layers.Dense(128, activation='relu'),\n",
    "#     tf.keras.layers.Dropout(0.2),\n",
    "#     tf.keras.layers.Dense(13)\n",
    "# ])\n"
   ]
  },
  {
   "cell_type": "markdown",
   "metadata": {
    "id": "NpZaoiryZKM9"
   },
   "source": [
    "## Categorical cross-entropy loss"
   ]
  },
  {
   "cell_type": "code",
   "execution_count": null,
   "metadata": {
    "id": "4FHSmC_EZKM9"
   },
   "outputs": [],
   "source": [
    "loss_fn = tf.keras.losses.CategoricalCrossentropy(from_logits=True)\n",
    "# loss_fn = tf.keras.losses.SparseCategoricalCrossentropy(from_logits=True)"
   ]
  },
  {
   "cell_type": "code",
   "execution_count": null,
   "metadata": {
    "id": "NVi1RfvvZKNA"
   },
   "outputs": [],
   "source": [
    "callback = tf.keras.callbacks.EarlyStopping(monitor='loss', patience=3)\n",
    "\n",
    "# model.compile(optimizer='adam',\n",
    "#               loss=loss_fn,\n",
    "#               metrics=['accuracy'])\n",
    "# history = model.fit(xs_train, ys_train, batch_size=128, epochs=15, callbacks=[callback])\n",
    "# model.evaluate(xs_test,  ys_test, verbose=2)"
   ]
  },
  {
   "cell_type": "code",
   "execution_count": null,
   "metadata": {
    "id": "Ibr_4-cVZKNC"
   },
   "outputs": [],
   "source": [
    "# model.evaluate(xs_test,  ys_test, verbose=2)"
   ]
  },
  {
   "cell_type": "markdown",
   "metadata": {
    "id": "BXaW7acdZKNE"
   },
   "source": [
    "# Try tune it by our own parameter"
   ]
  },
  {
   "cell_type": "code",
   "execution_count": null,
   "metadata": {
    "id": "84AteUoyZKNJ"
   },
   "outputs": [],
   "source": [
    "# len(epochs)*len(nds)*len(ncs)*len(nfilters)*len(filtersizes)*len(densenodes)"
   ]
  },
  {
   "cell_type": "code",
   "execution_count": null,
   "metadata": {
    "id": "tzNk6dTUZKNL"
   },
   "outputs": [],
   "source": [
    "epochs = range(5,6)\n",
    "nds = range(1,2)\n",
    "ncs = range(1,2)\n",
    "nfilters = [8,9]\n",
    "filtersizes = [2,4]\n",
    "densenodes =[16,32]"
   ]
  },
  {
   "cell_type": "code",
   "execution_count": null,
   "metadata": {
    "id": "estsYfJvZKNN"
   },
   "outputs": [],
   "source": [
    "epochs = range(5,26)\n",
    "nds = range(1,4)\n",
    "ncs = range(1,4)\n",
    "nfilters = [8,16,32,64,128,256,512]\n",
    "filtersizes = [2,3,4,5,6,7,8,10,12,14,16,20]\n",
    "densenodes =[16,32,64,128,256]"
   ]
  },
  {
   "cell_type": "code",
   "execution_count": null,
   "metadata": {
    "id": "JCbCB8FMZKNP"
   },
   "outputs": [],
   "source": [
    "def train(nepoch=6,nc=1,nd=1,nfilter=16,filter_size=4,dense_node=32):\n",
    "    param = {'nepoch':nepoch,'nc':nc,'nd':nd,'nfilter':nfilter,'filter_size':filter_size,'dense_node':dense_node}\n",
    "    print('param',param)\n",
    "    model = MyModel(nc,nd,nfilter,filter_size,dense_node)\n",
    "    model.compile(optimizer='adam',\n",
    "                  loss=loss_fn,\n",
    "                  metrics=['accuracy'])\n",
    "    history = model.fit(xs_train, ys_train, batch_size=128, epochs=nepoch, \n",
    "                        validation_data=(xs_val, ys_val), callbacks=[callback])\n",
    "    res = model.evaluate(xs_test,  ys_test, verbose=2)\n",
    "    return history, res, param"
   ]
  },
  {
   "cell_type": "code",
   "execution_count": null,
   "metadata": {
    "id": "BX1_g7q_ZKNQ"
   },
   "outputs": [],
   "source": [
    "\n",
    "# histories = []\n",
    "# evals = []\n",
    "# params = []\n",
    "\n",
    "\n",
    "# max_accu = 0\n",
    "# max_epoch = 0\n",
    "# for i in epochs:\n",
    "#     history, res, param = train(nepoch = i)\n",
    "#     histories.append(history)\n",
    "#     evals.append(res)\n",
    "#     params.append(param)\n",
    "#     if res[1] > max_accu:\n",
    "#         max_accu = res[1]\n",
    "#         max_epoch = i\n",
    "\n",
    "# max_accu = 0\n",
    "# max_nd = 0\n",
    "# for i in nds:\n",
    "#     history, res, param = train(nepoch = max_epoch, nd=i)\n",
    "#     histories.append(history)\n",
    "#     evals.append(res)\n",
    "#     params.append(param)\n",
    "#     if res[1] > max_accu:\n",
    "#         max_accu = res[1]\n",
    "#         max_nd = i\n",
    "\n",
    "# max_accu = 0\n",
    "# max_nc = 0\n",
    "# for i in ncs:\n",
    "#     history, res, param = train(nepoch = max_epoch, nd=max_nd, nc=i)\n",
    "#     histories.append(history)\n",
    "#     evals.append(res)\n",
    "#     params.append(param)\n",
    "#     if res[1] > max_accu:\n",
    "#         max_accu = res[1]\n",
    "#         max_nc = i\n",
    "        \n",
    "# max_accu = 0\n",
    "# max_nfilter = 0\n",
    "# for i in nfilters:\n",
    "#     history, res, param = train(nepoch = max_epoch, nd=max_nd, nc=max_nc, nfilter=i)\n",
    "#     histories.append(history)\n",
    "#     evals.append(res)\n",
    "#     params.append(param)\n",
    "#     if res[1] > max_accu:\n",
    "#         max_accu = res[1]\n",
    "#         max_nfilter = i\n",
    "\n",
    "# max_accu = 0\n",
    "# max_filtersizes = 0\n",
    "# for i in filtersizes:\n",
    "#     history, res, param = train(nepoch = max_epoch, nd=max_nd, nc=max_nc, nfilter=max_nfilter, filter_size=i)\n",
    "#     histories.append(history)\n",
    "#     evals.append(res)\n",
    "#     params.append(param)\n",
    "#     if res[1] > max_accu:\n",
    "#         max_accu = res[1]\n",
    "#         max_filtersizes = i\n",
    "        \n",
    "# max_accu = 0\n",
    "# max_densenodes = 0\n",
    "# for i in densenodes:\n",
    "#     history, res, param = train(nepoch = max_epoch, nd=max_nd, nc=max_nc, nfilter=max_nfilter, filter_size=max_filtersizes, dense_node=i)\n",
    "#     histories.append(history)\n",
    "#     evals.append(res)\n",
    "#     params.append(param)\n",
    "#     if res[1] > max_accu:\n",
    "#         max_accu = res[1]\n",
    "#         max_densenodes = i\n",
    "        \n"
   ]
  },
  {
   "cell_type": "code",
   "execution_count": null,
   "metadata": {
    "id": "DfUiCNeNZKNS"
   },
   "outputs": [],
   "source": [
    "# history, res, param = train(nepoch = 25, nd=2, nc=2, nfilter=8, filter_size=10)"
   ]
  },
  {
   "cell_type": "code",
   "execution_count": null,
   "metadata": {
    "id": "4l0swOuHZKNf"
   },
   "outputs": [],
   "source": [
    "# history, res, param = train(nepoch = 25, nd=2, nc=2, nfilter=8, filter_size=16)"
   ]
  },
  {
   "cell_type": "code",
   "execution_count": null,
   "metadata": {
    "colab": {
     "base_uri": "https://localhost:8080/"
    },
    "id": "djsWKF1fZKNi",
    "outputId": "6b64ee26-890d-485b-db55-c874006741f5"
   },
   "outputs": [],
   "source": [
    "history, res, param = train(nepoch = 1, nd=2, nc=2, nfilter=128, filter_size=20, dense_node=128)"
   ]
  },
  {
   "cell_type": "markdown",
   "metadata": {
    "id": "QtCOs2Q-2PZJ"
   },
   "source": [
    "## [fail] Exact implementation"
   ]
  },
  {
   "cell_type": "code",
   "execution_count": null,
   "metadata": {
    "colab": {
     "base_uri": "https://localhost:8080/",
     "height": 775
    },
    "id": "HDo6Qc3qZKNn",
    "outputId": "d404a591-96ec-4ef9-82a6-a905940015cd"
   },
   "outputs": [],
   "source": [
    "\n",
    "\n",
    "# ncrDeep = tf.keras.models.Sequential([\n",
    "#     Conv1D(filters=512, kernel_size=20),\n",
    "#     BatchNormalization(),\n",
    "#     Dropout(0.2),\n",
    "#     Activation(activations.relu),\n",
    "#     MaxPooling1D(2,2),\n",
    "\n",
    "#     Conv1D(filters=128, kernel_size=5),\n",
    "#     BatchNormalization(),\n",
    "#     Dropout(0.2),\n",
    "#     Activation(activations.relu),\n",
    "#     MaxPooling1D(2,2),\n",
    "\n",
    "#     Flatten(),\n",
    "\n",
    "#     Dense(128),\n",
    "#     Dense(13),\n",
    "#     Dropout(0.2),\n",
    "#     Activation(activations.relu),\n",
    "\n",
    "#     Dense(32),\n",
    "#     Dropout(0.2),\n",
    "#     Activation(activations.relu),\n",
    "#     Dense(13)\n",
    "# ])\n",
    "# ncrDeep.compile(optimizer='adam',\n",
    "#                   loss=loss_fn,\n",
    "#                   metrics=['accuracy'])\n",
    "# history = ncrDeep.fit(xs_train, ys_train, batch_size=128, epochs=19, \n",
    "#                         validation_data=(xs_val, ys_val), callbacks=[callback])\n",
    "# res = modelncrDeep.evaluate(xs_test,  ys_test, verbose=2)"
   ]
  },
  {
   "cell_type": "code",
   "execution_count": null,
   "metadata": {
    "colab": {
     "base_uri": "https://localhost:8080/"
    },
    "id": "Y_TSXV_X3VfS",
    "outputId": "20eb6408-319b-4c23-d2b1-5b9abbb85f03"
   },
   "outputs": [],
   "source": [
    "# res = ncrDeep.evaluate(xs_test,  ys_test, verbose=2)"
   ]
  },
  {
   "cell_type": "code",
   "execution_count": null,
   "metadata": {
    "id": "BW5lgCh83ri3"
   },
   "outputs": [],
   "source": [
    "# res"
   ]
  },
  {
   "cell_type": "code",
   "execution_count": null,
   "metadata": {
    "id": "78jhTCgd3sEc"
   },
   "outputs": [],
   "source": []
  }
 ],
 "metadata": {
  "accelerator": "TPU",
  "colab": {
   "name": "Copy of ncRDeep.ipynb",
   "provenance": [],
   "toc_visible": true
  },
  "kernelspec": {
   "display_name": "Python 3",
   "language": "python",
   "name": "python3"
  },
  "language_info": {
   "codemirror_mode": {
    "name": "ipython",
    "version": 3
   },
   "file_extension": ".py",
   "mimetype": "text/x-python",
   "name": "python",
   "nbconvert_exporter": "python",
   "pygments_lexer": "ipython3",
   "version": "3.7.8"
  }
 },
 "nbformat": 4,
 "nbformat_minor": 4
}
